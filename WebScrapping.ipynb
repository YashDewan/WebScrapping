{
  "nbformat": 4,
  "nbformat_minor": 0,
  "metadata": {
    "colab": {
      "name": "WebScrapping.ipynb",
      "provenance": [],
      "authorship_tag": "ABX9TyOd6gklk7Bz1SAJsdbHLwRY",
      "include_colab_link": true
    },
    "kernelspec": {
      "name": "python3",
      "display_name": "Python 3"
    },
    "language_info": {
      "name": "python"
    }
  },
  "cells": [
    {
      "cell_type": "markdown",
      "metadata": {
        "id": "view-in-github",
        "colab_type": "text"
      },
      "source": [
        "<a href=\"https://colab.research.google.com/github/YashDewan/WebScrapping/blob/main/WebScrapping.ipynb\" target=\"_parent\"><img src=\"https://colab.research.google.com/assets/colab-badge.svg\" alt=\"Open In Colab\"/></a>"
      ]
    },
    {
      "cell_type": "code",
      "source": [
        "import pandas as pd\n",
        "from bs4 import BeautifulSoup\n",
        "import requests"
      ],
      "metadata": {
        "id": "OMlY4MvoiNtE"
      },
      "execution_count": 275,
      "outputs": []
    },
    {
      "cell_type": "code",
      "source": [
        "url = \"https://www.flipkart.com/search?q=realme\"\n",
        "flipkart = requests.get(url)\n",
        "flipkart"
      ],
      "metadata": {
        "colab": {
          "base_uri": "https://localhost:8080/"
        },
        "id": "enGD2alwibYZ",
        "outputId": "b6c92324-0882-490e-8b8f-bb3550d02d2b"
      },
      "execution_count": 276,
      "outputs": [
        {
          "output_type": "execute_result",
          "data": {
            "text/plain": [
              "<Response [200]>"
            ]
          },
          "metadata": {},
          "execution_count": 276
        }
      ]
    },
    {
      "cell_type": "code",
      "source": [
        "flipkart.content"
      ],
      "metadata": {
        "id": "b-e6yXdnjLDi"
      },
      "execution_count": null,
      "outputs": []
    },
    {
      "cell_type": "code",
      "source": [
        "soup = BeautifulSoup(flipkart.content , \"html.parser\")\n",
        "# soup.prettify"
      ],
      "metadata": {
        "id": "fWdT2AFxjfGJ"
      },
      "execution_count": 278,
      "outputs": []
    },
    {
      "cell_type": "code",
      "source": [
        "soup.title.text"
      ],
      "metadata": {
        "colab": {
          "base_uri": "https://localhost:8080/",
          "height": 35
        },
        "id": "ofUEzVecj0vu",
        "outputId": "ed74a0ac-edd8-4b5d-fb4f-73ca33904fd6"
      },
      "execution_count": 279,
      "outputs": [
        {
          "output_type": "execute_result",
          "data": {
            "application/vnd.google.colaboratory.intrinsic+json": {
              "type": "string"
            },
            "text/plain": [
              "'Realme- Buy Products Online at Best Price in India - All Categories | Flipkart.com'"
            ]
          },
          "metadata": {},
          "execution_count": 279
        }
      ]
    },
    {
      "cell_type": "code",
      "source": [
        "type(soup.title)"
      ],
      "metadata": {
        "colab": {
          "base_uri": "https://localhost:8080/"
        },
        "id": "R6jpnfF1kO8k",
        "outputId": "07f7ece5-af0e-4ae0-dd94-eb8f050266c3"
      },
      "execution_count": 280,
      "outputs": [
        {
          "output_type": "execute_result",
          "data": {
            "text/plain": [
              "bs4.element.Tag"
            ]
          },
          "metadata": {},
          "execution_count": 280
        }
      ]
    },
    {
      "cell_type": "code",
      "source": [
        "soup.p.text"
      ],
      "metadata": {
        "colab": {
          "base_uri": "https://localhost:8080/",
          "height": 35
        },
        "id": "qhAQNCyokXyW",
        "outputId": "a1c92729-9943-475b-ab5c-79c6647899bb"
      },
      "execution_count": 281,
      "outputs": [
        {
          "output_type": "execute_result",
          "data": {
            "application/vnd.google.colaboratory.intrinsic+json": {
              "type": "string"
            },
            "text/plain": [
              "'Highly recommended'"
            ]
          },
          "metadata": {},
          "execution_count": 281
        }
      ]
    },
    {
      "cell_type": "code",
      "source": [
        "soup.div.text"
      ],
      "metadata": {
        "id": "RlCL92SMkbQV"
      },
      "execution_count": null,
      "outputs": []
    },
    {
      "cell_type": "code",
      "source": [
        "mobiles = soup.find_all(\"div\",class_=\"_2kHMtA\")\n",
        "len(mobiles)"
      ],
      "metadata": {
        "colab": {
          "base_uri": "https://localhost:8080/"
        },
        "id": "Jcyy-iAZkqU5",
        "outputId": "8fb0b845-6721-484c-e1a6-fad7a3402aed"
      },
      "execution_count": 283,
      "outputs": [
        {
          "output_type": "execute_result",
          "data": {
            "text/plain": [
              "40"
            ]
          },
          "metadata": {},
          "execution_count": 283
        }
      ]
    },
    {
      "cell_type": "code",
      "source": [
        "mob = mobiles[0]\n",
        "mob"
      ],
      "metadata": {
        "colab": {
          "base_uri": "https://localhost:8080/"
        },
        "id": "JXMS5d4ClGex",
        "outputId": "f588efb2-742e-4ded-a879-f62bfd334393"
      },
      "execution_count": 284,
      "outputs": [
        {
          "output_type": "execute_result",
          "data": {
            "text/plain": [
              "<div class=\"_2kHMtA\"><a class=\"_1fQZEK\" href=\"/realme-narzo-50a-oxygen-blue-64-gb/p/itm81d679403c2b4?pid=MOBG6MY4UGGFQWYY&amp;lid=LSTMOBG6MY4UGGFQWYYBVB3OV&amp;marketplace=FLIPKART&amp;q=realme&amp;store=search.flipkart.com&amp;spotlightTagId=BestsellerId_search.flipkart.com&amp;srno=s_1_1&amp;otracker=search&amp;fm=organic&amp;iid=0c297ae5-519d-4921-8b17-ed75d1fd70de.MOBG6MY4UGGFQWYY.SEARCH&amp;ppt=None&amp;ppn=None&amp;ssid=iuemiyml0g0000001644061317995&amp;qH=7cd3af2fb6db1e3f\" rel=\"noopener noreferrer\" target=\"_blank\"><div></div><div class=\"MIXNux\"><div class=\"_2QcLo-\"><div><div class=\"CXW8mj\" style=\"height:200px;width:200px\"><img alt=\"realme Narzo 50A (Oxygen Blue, 64 GB)\" class=\"_396cs4 _3exPp9\" src=\"https://rukminim1.flixcart.com/image/312/312/ktx9si80/mobile/d/n/p/narzo-50a-rmx3430-realme-original-imag75kymngzyabx.jpeg?q=70\"/></div></div></div><div class=\"_3wLduG\"><div class=\"_3PzNI-\"><span class=\"f3A4_V\"><label class=\"_2iDkf8\"><input class=\"_30VH1S\" readonly=\"\" type=\"checkbox\"/><div class=\"_24_Dny\"></div></label></span><label class=\"_6Up2sF\"><span>Add to Compare</span></label></div></div><div class=\"_2hVSre _3nq8ih\"><div class=\"_36FSn5\"><svg class=\"_1l0elc\" height=\"16\" viewbox=\"0 0 20 16\" width=\"16\" xmlns=\"http://www.w3.org/2000/svg\"><path class=\"eX72wL\" d=\"M8.695 16.682C4.06 12.382 1 9.536 1 6.065 1 3.219 3.178 1 5.95 1c1.566 0 3.069.746 4.05 1.915C10.981 1.745 12.484 1 14.05 1 16.822 1 19 3.22 19 6.065c0 3.471-3.06 6.316-7.695 10.617L10 17.897l-1.305-1.215z\" fill=\"#2874F0\" fill-rule=\"evenodd\" opacity=\".9\" stroke=\"#FFF\"></path></svg></div></div></div><div class=\"_3pLy-c row\"><div class=\"col col-7-12\"><div class=\"_4rR01T\">realme Narzo 50A (Oxygen Blue, 64 GB)</div><div class=\"gUuXy-\"><span class=\"_1lRcqv\" id=\"productRating_LSTMOBG6MY4UGGFQWYYBVB3OV_MOBG6MY4UGGFQWYY_\"><div class=\"_3LWZlK\">4.4<img class=\"_1wB99o\" src=\"data:image/svg+xml;base64,PHN2ZyB4bWxucz0iaHR0cDovL3d3dy53My5vcmcvMjAwMC9zdmciIHdpZHRoPSIxMyIgaGVpZ2h0PSIxMiI+PHBhdGggZmlsbD0iI0ZGRiIgZD0iTTYuNSA5LjQzOWwtMy42NzQgMi4yMy45NC00LjI2LTMuMjEtMi44ODMgNC4yNTQtLjQwNEw2LjUuMTEybDEuNjkgNC4wMSA0LjI1NC40MDQtMy4yMSAyLjg4Mi45NCA0LjI2eiIvPjwvc3ZnPg==\"/></div></span><span class=\"_2_R_DZ\"><span><span>2,20,067 Ratings </span><span class=\"_13vcmD\">&amp;</span><span> 13,354 Reviews</span></span></span></div><div class=\"fMghEO\"><ul class=\"_1xgFaf\"><li class=\"rgWa7D\">4 GB RAM | 64 GB ROM | Expandable Upto 256 GB</li><li class=\"rgWa7D\">16.51 cm (6.5 inch) HD+ Display</li><li class=\"rgWa7D\">50MP + 2MP + 2MP | 8MP Front Camera</li><li class=\"rgWa7D\">6000 mAh Battery</li><li class=\"rgWa7D\">MediaTek Helio G85 Processor</li><li class=\"rgWa7D\">1 Year Warranty for Mobile and 6 Months for Accessories</li></ul></div></div><div class=\"col col-5-12 nlI3QM\"><div class=\"_3tbKJL\"><div class=\"_25b18c\"><div class=\"_30jeq3 _1_WHN1\">₹11,549</div><div class=\"_3I9_wc _27UcVY\">₹<!-- -->12,999</div><div class=\"_3Ay6Sb\"><span>11% off</span></div></div><div class=\"_3tcB5a p8ucoS\"><div><div class=\"_2Tpdn3\" style=\"color:#000000;font-size:12px;font-style:normal;font-weight:400\">Free delivery</div></div></div></div><div class=\"_13J9qT\"><img height=\"21\" src=\"//static-assets-web.flixcart.com/www/linchpin/fk-cp-zion/img/fa_62673a.png\"/></div></div></div></a></div>"
            ]
          },
          "metadata": {},
          "execution_count": 284
        }
      ]
    },
    {
      "cell_type": "code",
      "source": [
        "name = mob.find(\"div\", attrs = {\"class\": \"_4rR01T\"})\n",
        "len(name)"
      ],
      "metadata": {
        "colab": {
          "base_uri": "https://localhost:8080/"
        },
        "id": "y4jM1rfAmOiW",
        "outputId": "e4f5eb8d-95e5-4c7c-e1d6-7adee514215b"
      },
      "execution_count": 285,
      "outputs": [
        {
          "output_type": "execute_result",
          "data": {
            "text/plain": [
              "1"
            ]
          },
          "metadata": {},
          "execution_count": 285
        }
      ]
    },
    {
      "cell_type": "code",
      "source": [
        "name.text"
      ],
      "metadata": {
        "colab": {
          "base_uri": "https://localhost:8080/",
          "height": 35
        },
        "id": "KMW3VbrpnGS9",
        "outputId": "345dd505-8230-4ec5-a5b4-024a4165f5c4"
      },
      "execution_count": 286,
      "outputs": [
        {
          "output_type": "execute_result",
          "data": {
            "application/vnd.google.colaboratory.intrinsic+json": {
              "type": "string"
            },
            "text/plain": [
              "'realme Narzo 50A (Oxygen Blue, 64 GB)'"
            ]
          },
          "metadata": {},
          "execution_count": 286
        }
      ]
    },
    {
      "cell_type": "code",
      "source": [
        "price = mob.find(\"div\" , attrs = {\"class\" : \"_30jeq3 _1_WHN1\"})\n",
        "len(price)\n",
        "price.text"
      ],
      "metadata": {
        "colab": {
          "base_uri": "https://localhost:8080/",
          "height": 35
        },
        "id": "VaV53cm5pmHa",
        "outputId": "b4e5797b-60a7-43b3-9562-cb8c2f621d1e"
      },
      "execution_count": 287,
      "outputs": [
        {
          "output_type": "execute_result",
          "data": {
            "application/vnd.google.colaboratory.intrinsic+json": {
              "type": "string"
            },
            "text/plain": [
              "'₹11,549'"
            ]
          },
          "metadata": {},
          "execution_count": 287
        }
      ]
    },
    {
      "cell_type": "code",
      "source": [
        "ramRom = mob.find(\"li\" , attrs = {\"class\" : \"rgWa7D\"})\n",
        "ramRom.text\n",
        "ramRomSpecs = ramRom.text.split(\" | \")\n",
        "print(ramRomSpecs[0]) #ram\n",
        "# print(ramRomSpecs[2]) #rom "
      ],
      "metadata": {
        "colab": {
          "base_uri": "https://localhost:8080/"
        },
        "id": "Sdt3fmrnqVdm",
        "outputId": "df309a9a-d9c5-4066-bf20-18e09c9be761"
      },
      "execution_count": 288,
      "outputs": [
        {
          "output_type": "stream",
          "name": "stdout",
          "text": [
            "4 GB RAM\n"
          ]
        }
      ]
    },
    {
      "cell_type": "code",
      "source": [
        "specsListAll = mob.find_all(\"li\" , attrs = {\"class\" : \"rgWa7D\"})\n",
        "print(specsListAll[3].text) #Battery\n",
        "print(specsListAll[2].text) #camera\n",
        "print(specsListAll[5].text) #warranty"
      ],
      "metadata": {
        "colab": {
          "base_uri": "https://localhost:8080/"
        },
        "id": "M-A5EQ3DqojH",
        "outputId": "257148e9-cda5-4b74-d333-8ebba2f7d36f"
      },
      "execution_count": 289,
      "outputs": [
        {
          "output_type": "stream",
          "name": "stdout",
          "text": [
            "6000 mAh Battery\n",
            "50MP + 2MP + 2MP | 8MP Front Camera\n",
            "1 Year Warranty for Mobile and 6 Months for Accessories\n"
          ]
        }
      ]
    },
    {
      "cell_type": "code",
      "source": [
        "discount = mob.find(\"div\" , attrs = {\"class\" , \"_3Ay6Sb\"})\n",
        "discount"
      ],
      "metadata": {
        "id": "5zxgHHeaq1Sh",
        "colab": {
          "base_uri": "https://localhost:8080/"
        },
        "outputId": "0ae6ffad-b578-4720-b201-8b9f1889b822"
      },
      "execution_count": 290,
      "outputs": [
        {
          "output_type": "execute_result",
          "data": {
            "text/plain": [
              "<div class=\"_3Ay6Sb\"><span>11% off</span></div>"
            ]
          },
          "metadata": {},
          "execution_count": 290
        }
      ]
    },
    {
      "cell_type": "code",
      "source": [
        "linksmob = mob.find_all(\"a\")\n",
        "len(linksmob)"
      ],
      "metadata": {
        "colab": {
          "base_uri": "https://localhost:8080/"
        },
        "id": "zvEtmosMsDhc",
        "outputId": "0e385670-8cf8-47ec-ebbd-13da6bd1fdd4"
      },
      "execution_count": 291,
      "outputs": [
        {
          "output_type": "execute_result",
          "data": {
            "text/plain": [
              "1"
            ]
          },
          "metadata": {},
          "execution_count": 291
        }
      ]
    },
    {
      "cell_type": "code",
      "source": [
        "mob.a[\"href\"]"
      ],
      "metadata": {
        "colab": {
          "base_uri": "https://localhost:8080/",
          "height": 70
        },
        "id": "rNUPjNoctLeG",
        "outputId": "a5656e41-6feb-4bef-901b-bb96f7a4aad4"
      },
      "execution_count": 292,
      "outputs": [
        {
          "output_type": "execute_result",
          "data": {
            "application/vnd.google.colaboratory.intrinsic+json": {
              "type": "string"
            },
            "text/plain": [
              "'/realme-narzo-50a-oxygen-blue-64-gb/p/itm81d679403c2b4?pid=MOBG6MY4UGGFQWYY&lid=LSTMOBG6MY4UGGFQWYYBVB3OV&marketplace=FLIPKART&q=realme&store=search.flipkart.com&spotlightTagId=BestsellerId_search.flipkart.com&srno=s_1_1&otracker=search&fm=organic&iid=0c297ae5-519d-4921-8b17-ed75d1fd70de.MOBG6MY4UGGFQWYY.SEARCH&ppt=None&ppn=None&ssid=iuemiyml0g0000001644061317995&qH=7cd3af2fb6db1e3f'"
            ]
          },
          "metadata": {},
          "execution_count": 292
        }
      ]
    },
    {
      "cell_type": "code",
      "source": [
        "# names = []\n",
        "# disc = []\n",
        "# prices = []\n",
        "# ram = []\n",
        "# rom = []\n",
        "# batteryMah = []\n",
        "# camera = []\n",
        "# warranty = []\n",
        "# urls = []\n",
        "append_values = []\n",
        "\n",
        "for i in mobiles:\n",
        "  # names\n",
        "  name = i.find(\"div\", attrs = {\"class\": \"_4rR01T\"}).text\n",
        "  # discount\n",
        "  discount = i.find(\"div\" , attrs = {\"class\" : \"_3Ay6Sb\"})\n",
        "  # price\n",
        "  price = i.find(\"div\" , attrs = {\"class\" : \"_30jeq3 _1_WHN1\"}).text\n",
        "  # ram/rom\n",
        "  ramRom = i.find(\"li\" , attrs = {\"class\" : \"rgWa7D\"})\n",
        "  ramRomSpecs = ramRom.text.split(\" | \")\n",
        "  # Specs\n",
        "  specsListAll = i.find_all(\"li\" , attrs = {\"class\" : \"rgWa7D\"})\n",
        "  # print(len(specsListAll))\n",
        "  # url\n",
        "  urlMob = i.a[\"href\"]\n",
        "  urlSplit = urlMob.split(\"?\")\n",
        "  finalUrl = \"https://www.flipkart.com\" + urlSplit[0]\n",
        "\n",
        "  append_items={\n",
        "      \"Names\" : name,\n",
        "      \"Discount (in %age)\" : discount.text.split(\"%\")[0],\n",
        "      \"Price\" : price.split(\",\")[0].split(\"₹\")[1] + price.split(\",\")[1],\n",
        "      \"RAM\" : ramRomSpecs[0],\n",
        "      \"ROM\" : ramRomSpecs[1],\n",
        "      \"Camera\" : specsListAll[2].text,\n",
        "      \"Battery (in MaH)\" : specsListAll[3].text,\n",
        "      \"Warranty\" : specsListAll[5].text,\n",
        "      \"URL\" : finalUrl\n",
        "  }\n",
        "\n",
        "  append_values.append(append_items)\n",
        "\n",
        "  # names.append(name)\n",
        "  # disc.append(discount)\n",
        "  # prices.append(price)\n",
        "  # ram.append(ramRomSpecs[0])\n",
        "  # rom.append(ramRomSpecs[1])\n",
        "  # camera.append(specsListAll[2].text)\n",
        "  # batteryMah.append(specsListAll[3].text)\n",
        "  # warranty.append(specsListAll[5].text)\n",
        "  # urls.append(finalUrl)"
      ],
      "metadata": {
        "id": "B-KGCPiRtrnW"
      },
      "execution_count": 293,
      "outputs": []
    },
    {
      "cell_type": "code",
      "source": [
        "# content = {\"Names\" : names , \"Price\" : prices , \"Discount\" : disc , \"RAM\" : ram , \"ROM\" : rom , \"Camera\" : camera , \"Warranty\" : warranty , \"Battery (in MaH)\" : batteryMah , \"url\" : finalUrl}"
      ],
      "metadata": {
        "id": "ggFPwxeb4ANm"
      },
      "execution_count": 294,
      "outputs": []
    },
    {
      "cell_type": "code",
      "source": [
        "df = pd.DataFrame(append_values)"
      ],
      "metadata": {
        "id": "JY2k7PmO4MzI"
      },
      "execution_count": 295,
      "outputs": []
    },
    {
      "cell_type": "code",
      "source": [
        "df"
      ],
      "metadata": {
        "colab": {
          "base_uri": "https://localhost:8080/",
          "height": 1000
        },
        "id": "Fx8N4CZ65LC-",
        "outputId": "316b2011-42f3-4bc3-d714-e417219e6911"
      },
      "execution_count": 296,
      "outputs": [
        {
          "output_type": "execute_result",
          "data": {
            "text/html": [
              "\n",
              "  <div id=\"df-55d2cc7c-f86b-4482-ab06-71bdd64080b0\">\n",
              "    <div class=\"colab-df-container\">\n",
              "      <div>\n",
              "<style scoped>\n",
              "    .dataframe tbody tr th:only-of-type {\n",
              "        vertical-align: middle;\n",
              "    }\n",
              "\n",
              "    .dataframe tbody tr th {\n",
              "        vertical-align: top;\n",
              "    }\n",
              "\n",
              "    .dataframe thead th {\n",
              "        text-align: right;\n",
              "    }\n",
              "</style>\n",
              "<table border=\"1\" class=\"dataframe\">\n",
              "  <thead>\n",
              "    <tr style=\"text-align: right;\">\n",
              "      <th></th>\n",
              "      <th>Names</th>\n",
              "      <th>Discount (in %age)</th>\n",
              "      <th>Price</th>\n",
              "      <th>RAM</th>\n",
              "      <th>ROM</th>\n",
              "      <th>Camera</th>\n",
              "      <th>Battery (in MaH)</th>\n",
              "      <th>Warranty</th>\n",
              "      <th>URL</th>\n",
              "    </tr>\n",
              "  </thead>\n",
              "  <tbody>\n",
              "    <tr>\n",
              "      <th>0</th>\n",
              "      <td>realme Narzo 50A (Oxygen Blue, 64 GB)</td>\n",
              "      <td>11</td>\n",
              "      <td>11549</td>\n",
              "      <td>4 GB RAM</td>\n",
              "      <td>64 GB ROM</td>\n",
              "      <td>50MP + 2MP + 2MP | 8MP Front Camera</td>\n",
              "      <td>6000 mAh Battery</td>\n",
              "      <td>1 Year Warranty for Mobile and 6 Months for Ac...</td>\n",
              "      <td>https://www.flipkart.com/realme-narzo-50a-oxyg...</td>\n",
              "    </tr>\n",
              "    <tr>\n",
              "      <th>1</th>\n",
              "      <td>realme Narzo 50A (Oxygen Green, 64 GB)</td>\n",
              "      <td>11</td>\n",
              "      <td>11549</td>\n",
              "      <td>4 GB RAM</td>\n",
              "      <td>64 GB ROM</td>\n",
              "      <td>50MP + 2MP + 2MP | 8MP Front Camera</td>\n",
              "      <td>6000 mAh Battery</td>\n",
              "      <td>1 Year Warranty for Mobile and 6 Months for Ac...</td>\n",
              "      <td>https://www.flipkart.com/realme-narzo-50a-oxyg...</td>\n",
              "    </tr>\n",
              "    <tr>\n",
              "      <th>2</th>\n",
              "      <td>realme Narzo 50A (Oxygen Blue, 128 GB)</td>\n",
              "      <td>10</td>\n",
              "      <td>12499</td>\n",
              "      <td>4 GB RAM</td>\n",
              "      <td>128 GB ROM</td>\n",
              "      <td>50MP + 2MP + 2MP | 8MP Front Camera</td>\n",
              "      <td>6000 mAh Battery</td>\n",
              "      <td>1 Year Warranty for Mobile and 6 Months for Ac...</td>\n",
              "      <td>https://www.flipkart.com/realme-narzo-50a-oxyg...</td>\n",
              "    </tr>\n",
              "    <tr>\n",
              "      <th>3</th>\n",
              "      <td>realme Narzo 50A (Oxygen Green, 128 GB)</td>\n",
              "      <td>10</td>\n",
              "      <td>12499</td>\n",
              "      <td>4 GB RAM</td>\n",
              "      <td>128 GB ROM</td>\n",
              "      <td>50MP + 2MP + 2MP | 8MP Front Camera</td>\n",
              "      <td>6000 mAh Battery</td>\n",
              "      <td>1 Year Warranty for Mobile and 6 Months for Ac...</td>\n",
              "      <td>https://www.flipkart.com/realme-narzo-50a-oxyg...</td>\n",
              "    </tr>\n",
              "    <tr>\n",
              "      <th>4</th>\n",
              "      <td>realme 8i (Space Purple, 64 GB)</td>\n",
              "      <td>12</td>\n",
              "      <td>13999</td>\n",
              "      <td>4 GB RAM</td>\n",
              "      <td>64 GB ROM</td>\n",
              "      <td>50MP + 2MP + 2MP | 16MP Front Camera</td>\n",
              "      <td>5000 mAh Battery</td>\n",
              "      <td>1 Year Warranty for Mobile and 6 Months for Ac...</td>\n",
              "      <td>https://www.flipkart.com/realme-8i-space-purpl...</td>\n",
              "    </tr>\n",
              "    <tr>\n",
              "      <th>5</th>\n",
              "      <td>realme 8i (Space Black, 64 GB)</td>\n",
              "      <td>12</td>\n",
              "      <td>13999</td>\n",
              "      <td>4 GB RAM</td>\n",
              "      <td>64 GB ROM</td>\n",
              "      <td>50MP + 2MP + 2MP | 16MP Front Camera</td>\n",
              "      <td>5000 mAh Battery</td>\n",
              "      <td>1 Year Warranty for Mobile and 6 Months for Ac...</td>\n",
              "      <td>https://www.flipkart.com/realme-8i-space-black...</td>\n",
              "    </tr>\n",
              "    <tr>\n",
              "      <th>6</th>\n",
              "      <td>realme 8i (Space Purple, 128 GB)</td>\n",
              "      <td>11</td>\n",
              "      <td>15999</td>\n",
              "      <td>6 GB RAM</td>\n",
              "      <td>128 GB ROM</td>\n",
              "      <td>50MP + 2MP + 2MP | 16MP Front Camera</td>\n",
              "      <td>5000 mAh Battery</td>\n",
              "      <td>1 Year Warranty for Mobile and 6 Months for Ac...</td>\n",
              "      <td>https://www.flipkart.com/realme-8i-space-purpl...</td>\n",
              "    </tr>\n",
              "    <tr>\n",
              "      <th>7</th>\n",
              "      <td>realme 8i (Space Black, 128 GB)</td>\n",
              "      <td>11</td>\n",
              "      <td>15999</td>\n",
              "      <td>6 GB RAM</td>\n",
              "      <td>128 GB ROM</td>\n",
              "      <td>50MP + 2MP + 2MP | 16MP Front Camera</td>\n",
              "      <td>5000 mAh Battery</td>\n",
              "      <td>1 Year Warranty for Mobile and 6 Months for Ac...</td>\n",
              "      <td>https://www.flipkart.com/realme-8i-space-black...</td>\n",
              "    </tr>\n",
              "    <tr>\n",
              "      <th>8</th>\n",
              "      <td>realme C21Y (Cross Blue, 32 GB)</td>\n",
              "      <td>5</td>\n",
              "      <td>9499</td>\n",
              "      <td>3 GB RAM</td>\n",
              "      <td>32 GB ROM</td>\n",
              "      <td>13MP + 2MP + 2MP | 5MP Front Camera</td>\n",
              "      <td>5000 mAh Battery</td>\n",
              "      <td>1 Year Warranty for Mobile and 6 Months for Ac...</td>\n",
              "      <td>https://www.flipkart.com/realme-c21y-cross-blu...</td>\n",
              "    </tr>\n",
              "    <tr>\n",
              "      <th>9</th>\n",
              "      <td>realme C21Y (Cross Blue, 64 GB)</td>\n",
              "      <td>4</td>\n",
              "      <td>10499</td>\n",
              "      <td>4 GB RAM</td>\n",
              "      <td>64 GB ROM</td>\n",
              "      <td>13MP + 2MP + 2MP | 5MP Front Camera</td>\n",
              "      <td>5000 mAh Battery</td>\n",
              "      <td>1 Year Warranty for Mobile and 6 Months for Ac...</td>\n",
              "      <td>https://www.flipkart.com/realme-c21y-cross-blu...</td>\n",
              "    </tr>\n",
              "    <tr>\n",
              "      <th>10</th>\n",
              "      <td>realme C21Y (Cross Black, 64 GB)</td>\n",
              "      <td>4</td>\n",
              "      <td>10499</td>\n",
              "      <td>4 GB RAM</td>\n",
              "      <td>64 GB ROM</td>\n",
              "      <td>13MP + 2MP + 2MP | 5MP Front Camera</td>\n",
              "      <td>5000 mAh Battery</td>\n",
              "      <td>1 Year Warranty for Mobile and 6 Months for Ac...</td>\n",
              "      <td>https://www.flipkart.com/realme-c21y-cross-bla...</td>\n",
              "    </tr>\n",
              "    <tr>\n",
              "      <th>11</th>\n",
              "      <td>realme C21Y (Cross Black, 32 GB)</td>\n",
              "      <td>5</td>\n",
              "      <td>9499</td>\n",
              "      <td>3 GB RAM</td>\n",
              "      <td>32 GB ROM</td>\n",
              "      <td>13MP + 2MP + 2MP | 5MP Front Camera</td>\n",
              "      <td>5000 mAh Battery</td>\n",
              "      <td>1 Year Warranty for Mobile and 6 Months for Ac...</td>\n",
              "      <td>https://www.flipkart.com/realme-c21y-cross-bla...</td>\n",
              "    </tr>\n",
              "    <tr>\n",
              "      <th>12</th>\n",
              "      <td>realme C11 2021 (Cool Grey, 32 GB)</td>\n",
              "      <td>6</td>\n",
              "      <td>7499</td>\n",
              "      <td>2 GB RAM</td>\n",
              "      <td>32 GB ROM</td>\n",
              "      <td>8MP Rear Camera | 5MP Front Camera</td>\n",
              "      <td>5000 mAh Battery</td>\n",
              "      <td>1 Year Warranty for Mobile and 6 Months for Ac...</td>\n",
              "      <td>https://www.flipkart.com/realme-c11-2021-cool-...</td>\n",
              "    </tr>\n",
              "    <tr>\n",
              "      <th>13</th>\n",
              "      <td>realme C11 2021 (Cool Blue, 32 GB)</td>\n",
              "      <td>6</td>\n",
              "      <td>7499</td>\n",
              "      <td>2 GB RAM</td>\n",
              "      <td>32 GB ROM</td>\n",
              "      <td>8MP Rear Camera | 5MP Front Camera</td>\n",
              "      <td>5000 mAh Battery</td>\n",
              "      <td>1 Year Warranty for Mobile and 6 Months for Ac...</td>\n",
              "      <td>https://www.flipkart.com/realme-c11-2021-cool-...</td>\n",
              "    </tr>\n",
              "    <tr>\n",
              "      <th>14</th>\n",
              "      <td>realme C11 2021 (Cool Blue, 64 GB)</td>\n",
              "      <td>10</td>\n",
              "      <td>8999</td>\n",
              "      <td>4 GB RAM</td>\n",
              "      <td>64 GB ROM</td>\n",
              "      <td>8MP Rear Camera | 5MP Front Camera</td>\n",
              "      <td>5000 mAh Battery</td>\n",
              "      <td>1 Year Warranty for Mobile and 6 Months for Ac...</td>\n",
              "      <td>https://www.flipkart.com/realme-c11-2021-cool-...</td>\n",
              "    </tr>\n",
              "    <tr>\n",
              "      <th>15</th>\n",
              "      <td>realme 9i (Prism Blue, 128 GB)</td>\n",
              "      <td>11</td>\n",
              "      <td>15999</td>\n",
              "      <td>6 GB RAM</td>\n",
              "      <td>128 GB ROM</td>\n",
              "      <td>50MP + 2MP + 2MP | 16MP Front Camera</td>\n",
              "      <td>5000 mAh Lithium ion Battery</td>\n",
              "      <td>1 Year Manufacturer Warranty for Phone and 6 M...</td>\n",
              "      <td>https://www.flipkart.com/realme-9i-prism-blue-...</td>\n",
              "    </tr>\n",
              "    <tr>\n",
              "      <th>16</th>\n",
              "      <td>realme 9i (Prism Black, 64 GB)</td>\n",
              "      <td>12</td>\n",
              "      <td>13999</td>\n",
              "      <td>4 GB RAM</td>\n",
              "      <td>64 GB ROM</td>\n",
              "      <td>50MP + 2MP + 2MP | 16MP Front Camera</td>\n",
              "      <td>5000 mAh Lithium ion Battery</td>\n",
              "      <td>1 Year Manufacturer Warranty for Phone and 6 M...</td>\n",
              "      <td>https://www.flipkart.com/realme-9i-prism-black...</td>\n",
              "    </tr>\n",
              "    <tr>\n",
              "      <th>17</th>\n",
              "      <td>realme 9i (Prism Black, 128 GB)</td>\n",
              "      <td>11</td>\n",
              "      <td>15999</td>\n",
              "      <td>6 GB RAM</td>\n",
              "      <td>128 GB ROM</td>\n",
              "      <td>50MP + 2MP + 2MP | 16MP Front Camera</td>\n",
              "      <td>5000 mAh Lithium ion Battery</td>\n",
              "      <td>1 Year Manufacturer Warranty for Phone and 6 M...</td>\n",
              "      <td>https://www.flipkart.com/realme-9i-prism-black...</td>\n",
              "    </tr>\n",
              "    <tr>\n",
              "      <th>18</th>\n",
              "      <td>realme C11 2021 (Cool Grey, 64 GB)</td>\n",
              "      <td>10</td>\n",
              "      <td>8999</td>\n",
              "      <td>4 GB RAM</td>\n",
              "      <td>64 GB ROM</td>\n",
              "      <td>8MP Rear Camera | 5MP Front Camera</td>\n",
              "      <td>5000 mAh Battery</td>\n",
              "      <td>1 Year Warranty for Mobile and 6 Months for Ac...</td>\n",
              "      <td>https://www.flipkart.com/realme-c11-2021-cool-...</td>\n",
              "    </tr>\n",
              "    <tr>\n",
              "      <th>19</th>\n",
              "      <td>realme 9i (Prism Blue, 64 GB)</td>\n",
              "      <td>12</td>\n",
              "      <td>13999</td>\n",
              "      <td>4 GB RAM</td>\n",
              "      <td>64 GB ROM</td>\n",
              "      <td>50MP + 2MP + 2MP | 16MP Front Camera</td>\n",
              "      <td>5000 mAh Lithium ion Battery</td>\n",
              "      <td>1 Year Manufacturer Warranty for Phone and 6 M...</td>\n",
              "      <td>https://www.flipkart.com/realme-9i-prism-blue-...</td>\n",
              "    </tr>\n",
              "    <tr>\n",
              "      <th>20</th>\n",
              "      <td>realme 8 (Cyber Black, 128 GB)</td>\n",
              "      <td>5</td>\n",
              "      <td>16999</td>\n",
              "      <td>6 GB RAM</td>\n",
              "      <td>128 GB ROM</td>\n",
              "      <td>64MP + 8MP + 2MP + 2MP | 16MP Front Camera</td>\n",
              "      <td>5000 mAh Battery</td>\n",
              "      <td>Super AMOLED Display</td>\n",
              "      <td>https://www.flipkart.com/realme-8-cyber-black-...</td>\n",
              "    </tr>\n",
              "    <tr>\n",
              "      <th>21</th>\n",
              "      <td>realme Narzo 50i (Carbon Black, 32 GB)</td>\n",
              "      <td>6</td>\n",
              "      <td>7499</td>\n",
              "      <td>2 GB RAM</td>\n",
              "      <td>32 GB ROM</td>\n",
              "      <td>8MP Rear Camera | 5MP Front Camera</td>\n",
              "      <td>5000 mAh Battery</td>\n",
              "      <td>1 Year Warranty for Mobile and 6 Months for Ac...</td>\n",
              "      <td>https://www.flipkart.com/realme-narzo-50i-carb...</td>\n",
              "    </tr>\n",
              "    <tr>\n",
              "      <th>22</th>\n",
              "      <td>realme Narzo 50i (Mint Green, 32 GB)</td>\n",
              "      <td>6</td>\n",
              "      <td>7499</td>\n",
              "      <td>2 GB RAM</td>\n",
              "      <td>32 GB ROM</td>\n",
              "      <td>8MP Rear Camera | 5MP Front Camera</td>\n",
              "      <td>5000 mAh Battery</td>\n",
              "      <td>1 Year Warranty for Mobile and 6 Months for Ac...</td>\n",
              "      <td>https://www.flipkart.com/realme-narzo-50i-mint...</td>\n",
              "    </tr>\n",
              "    <tr>\n",
              "      <th>23</th>\n",
              "      <td>realme 8 (Cyber Silver, 128 GB)</td>\n",
              "      <td>5</td>\n",
              "      <td>16999</td>\n",
              "      <td>6 GB RAM</td>\n",
              "      <td>128 GB ROM</td>\n",
              "      <td>64MP + 8MP + 2MP + 2MP | 16MP Front Camera</td>\n",
              "      <td>5000 mAh Battery</td>\n",
              "      <td>Super AMOLED Display</td>\n",
              "      <td>https://www.flipkart.com/realme-8-cyber-silver...</td>\n",
              "    </tr>\n",
              "    <tr>\n",
              "      <th>24</th>\n",
              "      <td>realme 8 (Cyber Silver, 128 GB)</td>\n",
              "      <td>5</td>\n",
              "      <td>17999</td>\n",
              "      <td>8 GB RAM</td>\n",
              "      <td>128 GB ROM</td>\n",
              "      <td>64MP + 8MP + 2MP + 2MP | 16MP Front Camera</td>\n",
              "      <td>5000 mAh Battery</td>\n",
              "      <td>Super AMOLED Display</td>\n",
              "      <td>https://www.flipkart.com/realme-8-cyber-silver...</td>\n",
              "    </tr>\n",
              "    <tr>\n",
              "      <th>25</th>\n",
              "      <td>realme 8 (Cyber Black, 128 GB)</td>\n",
              "      <td>5</td>\n",
              "      <td>17999</td>\n",
              "      <td>8 GB RAM</td>\n",
              "      <td>128 GB ROM</td>\n",
              "      <td>64MP + 8MP + 2MP + 2MP | 16MP Front Camera</td>\n",
              "      <td>5000 mAh Battery</td>\n",
              "      <td>Super AMOLED Display</td>\n",
              "      <td>https://www.flipkart.com/realme-8-cyber-black-...</td>\n",
              "    </tr>\n",
              "    <tr>\n",
              "      <th>26</th>\n",
              "      <td>realme 8 5G (Supersonic Black, 128 GB)</td>\n",
              "      <td>19</td>\n",
              "      <td>15261</td>\n",
              "      <td>8 GB RAM</td>\n",
              "      <td>128 GB ROM</td>\n",
              "      <td>48MP + 2MP + 2MP | 16MP Front Camera</td>\n",
              "      <td>5000 mAh Battery</td>\n",
              "      <td>1 Year Warranty for Mobile and 6 Months for Ac...</td>\n",
              "      <td>https://www.flipkart.com/realme-8-5g-supersoni...</td>\n",
              "    </tr>\n",
              "    <tr>\n",
              "      <th>27</th>\n",
              "      <td>realme Narzo 50i (Mint Green, 64 GB)</td>\n",
              "      <td>10</td>\n",
              "      <td>8999</td>\n",
              "      <td>4 GB RAM</td>\n",
              "      <td>64 GB ROM</td>\n",
              "      <td>8MP Rear Camera | 5MP Front Camera</td>\n",
              "      <td>5000 mAh Battery</td>\n",
              "      <td>1 Year Warranty for Mobile and 6 Months for Ac...</td>\n",
              "      <td>https://www.flipkart.com/realme-narzo-50i-mint...</td>\n",
              "    </tr>\n",
              "    <tr>\n",
              "      <th>28</th>\n",
              "      <td>realme Narzo 50i (Carbon Black, 64 GB)</td>\n",
              "      <td>10</td>\n",
              "      <td>8999</td>\n",
              "      <td>4 GB RAM</td>\n",
              "      <td>64 GB ROM</td>\n",
              "      <td>8MP Rear Camera | 5MP Front Camera</td>\n",
              "      <td>5000 mAh Battery</td>\n",
              "      <td>1 Year Warranty for Mobile and 6 Months for Ac...</td>\n",
              "      <td>https://www.flipkart.com/realme-narzo-50i-carb...</td>\n",
              "    </tr>\n",
              "    <tr>\n",
              "      <th>29</th>\n",
              "      <td>realme C20 (Cool Blue, 32 GB)</td>\n",
              "      <td>6</td>\n",
              "      <td>7499</td>\n",
              "      <td>2 GB RAM</td>\n",
              "      <td>32 GB ROM</td>\n",
              "      <td>8MP Rear Camera | 5MP Front Camera</td>\n",
              "      <td>5000 mAh Battery</td>\n",
              "      <td>1 Year Warranty for Mobile and 6 Months for Ac...</td>\n",
              "      <td>https://www.flipkart.com/realme-c20-cool-blue-...</td>\n",
              "    </tr>\n",
              "    <tr>\n",
              "      <th>30</th>\n",
              "      <td>realme C20 (Cool Grey, 32 GB)</td>\n",
              "      <td>6</td>\n",
              "      <td>7499</td>\n",
              "      <td>2 GB RAM</td>\n",
              "      <td>32 GB ROM</td>\n",
              "      <td>8MP Rear Camera | 5MP Front Camera</td>\n",
              "      <td>5000 mAh Battery</td>\n",
              "      <td>1 Year Warranty for Mobile and 6 Months for Ac...</td>\n",
              "      <td>https://www.flipkart.com/realme-c20-cool-grey-...</td>\n",
              "    </tr>\n",
              "    <tr>\n",
              "      <th>31</th>\n",
              "      <td>realme C25_Y (Glacier Blue, 64 GB)</td>\n",
              "      <td>15</td>\n",
              "      <td>10999</td>\n",
              "      <td>4 GB RAM</td>\n",
              "      <td>64 GB ROM</td>\n",
              "      <td>50MP + 2MP + 2MP | 8MP Front Camera</td>\n",
              "      <td>5000 mAh LiPo Battery</td>\n",
              "      <td>1 Year Domestic Warranty</td>\n",
              "      <td>https://www.flipkart.com/realme-c25-y-glacier-...</td>\n",
              "    </tr>\n",
              "    <tr>\n",
              "      <th>32</th>\n",
              "      <td>realme C25_Y (Metal Grey, 64 GB)</td>\n",
              "      <td>15</td>\n",
              "      <td>10999</td>\n",
              "      <td>4 GB RAM</td>\n",
              "      <td>64 GB ROM</td>\n",
              "      <td>50MP + 2MP + 2MP | 8MP Front Camera</td>\n",
              "      <td>5000 mAh LiPo Battery</td>\n",
              "      <td>1 Year Domestic Warranty</td>\n",
              "      <td>https://www.flipkart.com/realme-c25-y-metal-gr...</td>\n",
              "    </tr>\n",
              "    <tr>\n",
              "      <th>33</th>\n",
              "      <td>realme C25_Y (Metal Grey, 128 GB)</td>\n",
              "      <td>14</td>\n",
              "      <td>11999</td>\n",
              "      <td>4 GB RAM</td>\n",
              "      <td>128 GB ROM</td>\n",
              "      <td>50MP + 2MP + 2MP | 8MP Front Camera</td>\n",
              "      <td>5000 mAh LiPo Battery</td>\n",
              "      <td>1 Year Domestic Warranty</td>\n",
              "      <td>https://www.flipkart.com/realme-c25-y-metal-gr...</td>\n",
              "    </tr>\n",
              "    <tr>\n",
              "      <th>34</th>\n",
              "      <td>realme C25_Y (Glacier Blue, 128 GB)</td>\n",
              "      <td>14</td>\n",
              "      <td>11999</td>\n",
              "      <td>4 GB RAM</td>\n",
              "      <td>128 GB ROM</td>\n",
              "      <td>50MP + 2MP + 2MP | 8MP Front Camera</td>\n",
              "      <td>5000 mAh LiPo Battery</td>\n",
              "      <td>1 Year Domestic Warranty</td>\n",
              "      <td>https://www.flipkart.com/realme-c25-y-glacier-...</td>\n",
              "    </tr>\n",
              "    <tr>\n",
              "      <th>35</th>\n",
              "      <td>realme 8 5G (Supersonic Black, 128 GB)</td>\n",
              "      <td>9</td>\n",
              "      <td>15445</td>\n",
              "      <td>4 GB RAM</td>\n",
              "      <td>128 GB ROM</td>\n",
              "      <td>48MP + 2MP + 2MP | 16MP Front Camera</td>\n",
              "      <td>5000 mAh Battery</td>\n",
              "      <td>1 Year Warranty for Mobile and 6 Months for Ac...</td>\n",
              "      <td>https://www.flipkart.com/realme-8-5g-supersoni...</td>\n",
              "    </tr>\n",
              "    <tr>\n",
              "      <th>36</th>\n",
              "      <td>realme 8 5G (Supersonic Blue, 128 GB)</td>\n",
              "      <td>4</td>\n",
              "      <td>16165</td>\n",
              "      <td>4 GB RAM</td>\n",
              "      <td>128 GB ROM</td>\n",
              "      <td>48MP + 2MP + 2MP | 16MP Front Camera</td>\n",
              "      <td>5000 mAh Battery</td>\n",
              "      <td>1 Year Warranty for Mobile and 6 Months for Ac...</td>\n",
              "      <td>https://www.flipkart.com/realme-8-5g-supersoni...</td>\n",
              "    </tr>\n",
              "    <tr>\n",
              "      <th>37</th>\n",
              "      <td>realme Narzo 30 (Racing Blue, 128 GB)</td>\n",
              "      <td>8</td>\n",
              "      <td>15499</td>\n",
              "      <td>6 GB RAM</td>\n",
              "      <td>128 GB ROM</td>\n",
              "      <td>48MP + 2MP + 2MP | 16MP Front Camera</td>\n",
              "      <td>5000 mAh Battery</td>\n",
              "      <td>30W Charger</td>\n",
              "      <td>https://www.flipkart.com/realme-narzo-30-racin...</td>\n",
              "    </tr>\n",
              "    <tr>\n",
              "      <th>38</th>\n",
              "      <td>realme 8 (Cyber Black, 128 GB)</td>\n",
              "      <td>5</td>\n",
              "      <td>15999</td>\n",
              "      <td>4 GB RAM</td>\n",
              "      <td>128 GB ROM</td>\n",
              "      <td>64MP + 8MP + 2MP + 2MP | 16MP Front Camera</td>\n",
              "      <td>5000 mAh Battery</td>\n",
              "      <td>Super AMOLED Display</td>\n",
              "      <td>https://www.flipkart.com/realme-8-cyber-black-...</td>\n",
              "    </tr>\n",
              "    <tr>\n",
              "      <th>39</th>\n",
              "      <td>realme Narzo 30 (Racing Silver, 64 GB)</td>\n",
              "      <td>10</td>\n",
              "      <td>13499</td>\n",
              "      <td>4 GB RAM</td>\n",
              "      <td>64 GB ROM</td>\n",
              "      <td>48MP + 2MP + 2MP | 16MP Front Camera</td>\n",
              "      <td>5000 mAh Battery</td>\n",
              "      <td>30W Charger</td>\n",
              "      <td>https://www.flipkart.com/realme-narzo-30-racin...</td>\n",
              "    </tr>\n",
              "  </tbody>\n",
              "</table>\n",
              "</div>\n",
              "      <button class=\"colab-df-convert\" onclick=\"convertToInteractive('df-55d2cc7c-f86b-4482-ab06-71bdd64080b0')\"\n",
              "              title=\"Convert this dataframe to an interactive table.\"\n",
              "              style=\"display:none;\">\n",
              "        \n",
              "  <svg xmlns=\"http://www.w3.org/2000/svg\" height=\"24px\"viewBox=\"0 0 24 24\"\n",
              "       width=\"24px\">\n",
              "    <path d=\"M0 0h24v24H0V0z\" fill=\"none\"/>\n",
              "    <path d=\"M18.56 5.44l.94 2.06.94-2.06 2.06-.94-2.06-.94-.94-2.06-.94 2.06-2.06.94zm-11 1L8.5 8.5l.94-2.06 2.06-.94-2.06-.94L8.5 2.5l-.94 2.06-2.06.94zm10 10l.94 2.06.94-2.06 2.06-.94-2.06-.94-.94-2.06-.94 2.06-2.06.94z\"/><path d=\"M17.41 7.96l-1.37-1.37c-.4-.4-.92-.59-1.43-.59-.52 0-1.04.2-1.43.59L10.3 9.45l-7.72 7.72c-.78.78-.78 2.05 0 2.83L4 21.41c.39.39.9.59 1.41.59.51 0 1.02-.2 1.41-.59l7.78-7.78 2.81-2.81c.8-.78.8-2.07 0-2.86zM5.41 20L4 18.59l7.72-7.72 1.47 1.35L5.41 20z\"/>\n",
              "  </svg>\n",
              "      </button>\n",
              "      \n",
              "  <style>\n",
              "    .colab-df-container {\n",
              "      display:flex;\n",
              "      flex-wrap:wrap;\n",
              "      gap: 12px;\n",
              "    }\n",
              "\n",
              "    .colab-df-convert {\n",
              "      background-color: #E8F0FE;\n",
              "      border: none;\n",
              "      border-radius: 50%;\n",
              "      cursor: pointer;\n",
              "      display: none;\n",
              "      fill: #1967D2;\n",
              "      height: 32px;\n",
              "      padding: 0 0 0 0;\n",
              "      width: 32px;\n",
              "    }\n",
              "\n",
              "    .colab-df-convert:hover {\n",
              "      background-color: #E2EBFA;\n",
              "      box-shadow: 0px 1px 2px rgba(60, 64, 67, 0.3), 0px 1px 3px 1px rgba(60, 64, 67, 0.15);\n",
              "      fill: #174EA6;\n",
              "    }\n",
              "\n",
              "    [theme=dark] .colab-df-convert {\n",
              "      background-color: #3B4455;\n",
              "      fill: #D2E3FC;\n",
              "    }\n",
              "\n",
              "    [theme=dark] .colab-df-convert:hover {\n",
              "      background-color: #434B5C;\n",
              "      box-shadow: 0px 1px 3px 1px rgba(0, 0, 0, 0.15);\n",
              "      filter: drop-shadow(0px 1px 2px rgba(0, 0, 0, 0.3));\n",
              "      fill: #FFFFFF;\n",
              "    }\n",
              "  </style>\n",
              "\n",
              "      <script>\n",
              "        const buttonEl =\n",
              "          document.querySelector('#df-55d2cc7c-f86b-4482-ab06-71bdd64080b0 button.colab-df-convert');\n",
              "        buttonEl.style.display =\n",
              "          google.colab.kernel.accessAllowed ? 'block' : 'none';\n",
              "\n",
              "        async function convertToInteractive(key) {\n",
              "          const element = document.querySelector('#df-55d2cc7c-f86b-4482-ab06-71bdd64080b0');\n",
              "          const dataTable =\n",
              "            await google.colab.kernel.invokeFunction('convertToInteractive',\n",
              "                                                     [key], {});\n",
              "          if (!dataTable) return;\n",
              "\n",
              "          const docLinkHtml = 'Like what you see? Visit the ' +\n",
              "            '<a target=\"_blank\" href=https://colab.research.google.com/notebooks/data_table.ipynb>data table notebook</a>'\n",
              "            + ' to learn more about interactive tables.';\n",
              "          element.innerHTML = '';\n",
              "          dataTable['output_type'] = 'display_data';\n",
              "          await google.colab.output.renderOutput(dataTable, element);\n",
              "          const docLink = document.createElement('div');\n",
              "          docLink.innerHTML = docLinkHtml;\n",
              "          element.appendChild(docLink);\n",
              "        }\n",
              "      </script>\n",
              "    </div>\n",
              "  </div>\n",
              "  "
            ],
            "text/plain": [
              "                                      Names  ...                                                URL\n",
              "0     realme Narzo 50A (Oxygen Blue, 64 GB)  ...  https://www.flipkart.com/realme-narzo-50a-oxyg...\n",
              "1    realme Narzo 50A (Oxygen Green, 64 GB)  ...  https://www.flipkart.com/realme-narzo-50a-oxyg...\n",
              "2    realme Narzo 50A (Oxygen Blue, 128 GB)  ...  https://www.flipkart.com/realme-narzo-50a-oxyg...\n",
              "3   realme Narzo 50A (Oxygen Green, 128 GB)  ...  https://www.flipkart.com/realme-narzo-50a-oxyg...\n",
              "4           realme 8i (Space Purple, 64 GB)  ...  https://www.flipkart.com/realme-8i-space-purpl...\n",
              "5            realme 8i (Space Black, 64 GB)  ...  https://www.flipkart.com/realme-8i-space-black...\n",
              "6          realme 8i (Space Purple, 128 GB)  ...  https://www.flipkart.com/realme-8i-space-purpl...\n",
              "7           realme 8i (Space Black, 128 GB)  ...  https://www.flipkart.com/realme-8i-space-black...\n",
              "8           realme C21Y (Cross Blue, 32 GB)  ...  https://www.flipkart.com/realme-c21y-cross-blu...\n",
              "9           realme C21Y (Cross Blue, 64 GB)  ...  https://www.flipkart.com/realme-c21y-cross-blu...\n",
              "10         realme C21Y (Cross Black, 64 GB)  ...  https://www.flipkart.com/realme-c21y-cross-bla...\n",
              "11         realme C21Y (Cross Black, 32 GB)  ...  https://www.flipkart.com/realme-c21y-cross-bla...\n",
              "12       realme C11 2021 (Cool Grey, 32 GB)  ...  https://www.flipkart.com/realme-c11-2021-cool-...\n",
              "13       realme C11 2021 (Cool Blue, 32 GB)  ...  https://www.flipkart.com/realme-c11-2021-cool-...\n",
              "14       realme C11 2021 (Cool Blue, 64 GB)  ...  https://www.flipkart.com/realme-c11-2021-cool-...\n",
              "15           realme 9i (Prism Blue, 128 GB)  ...  https://www.flipkart.com/realme-9i-prism-blue-...\n",
              "16           realme 9i (Prism Black, 64 GB)  ...  https://www.flipkart.com/realme-9i-prism-black...\n",
              "17          realme 9i (Prism Black, 128 GB)  ...  https://www.flipkart.com/realme-9i-prism-black...\n",
              "18       realme C11 2021 (Cool Grey, 64 GB)  ...  https://www.flipkart.com/realme-c11-2021-cool-...\n",
              "19            realme 9i (Prism Blue, 64 GB)  ...  https://www.flipkart.com/realme-9i-prism-blue-...\n",
              "20           realme 8 (Cyber Black, 128 GB)  ...  https://www.flipkart.com/realme-8-cyber-black-...\n",
              "21   realme Narzo 50i (Carbon Black, 32 GB)  ...  https://www.flipkart.com/realme-narzo-50i-carb...\n",
              "22     realme Narzo 50i (Mint Green, 32 GB)  ...  https://www.flipkart.com/realme-narzo-50i-mint...\n",
              "23          realme 8 (Cyber Silver, 128 GB)  ...  https://www.flipkart.com/realme-8-cyber-silver...\n",
              "24          realme 8 (Cyber Silver, 128 GB)  ...  https://www.flipkart.com/realme-8-cyber-silver...\n",
              "25           realme 8 (Cyber Black, 128 GB)  ...  https://www.flipkart.com/realme-8-cyber-black-...\n",
              "26   realme 8 5G (Supersonic Black, 128 GB)  ...  https://www.flipkart.com/realme-8-5g-supersoni...\n",
              "27     realme Narzo 50i (Mint Green, 64 GB)  ...  https://www.flipkart.com/realme-narzo-50i-mint...\n",
              "28   realme Narzo 50i (Carbon Black, 64 GB)  ...  https://www.flipkart.com/realme-narzo-50i-carb...\n",
              "29            realme C20 (Cool Blue, 32 GB)  ...  https://www.flipkart.com/realme-c20-cool-blue-...\n",
              "30            realme C20 (Cool Grey, 32 GB)  ...  https://www.flipkart.com/realme-c20-cool-grey-...\n",
              "31       realme C25_Y (Glacier Blue, 64 GB)  ...  https://www.flipkart.com/realme-c25-y-glacier-...\n",
              "32         realme C25_Y (Metal Grey, 64 GB)  ...  https://www.flipkart.com/realme-c25-y-metal-gr...\n",
              "33        realme C25_Y (Metal Grey, 128 GB)  ...  https://www.flipkart.com/realme-c25-y-metal-gr...\n",
              "34      realme C25_Y (Glacier Blue, 128 GB)  ...  https://www.flipkart.com/realme-c25-y-glacier-...\n",
              "35   realme 8 5G (Supersonic Black, 128 GB)  ...  https://www.flipkart.com/realme-8-5g-supersoni...\n",
              "36    realme 8 5G (Supersonic Blue, 128 GB)  ...  https://www.flipkart.com/realme-8-5g-supersoni...\n",
              "37    realme Narzo 30 (Racing Blue, 128 GB)  ...  https://www.flipkart.com/realme-narzo-30-racin...\n",
              "38           realme 8 (Cyber Black, 128 GB)  ...  https://www.flipkart.com/realme-8-cyber-black-...\n",
              "39   realme Narzo 30 (Racing Silver, 64 GB)  ...  https://www.flipkart.com/realme-narzo-30-racin...\n",
              "\n",
              "[40 rows x 9 columns]"
            ]
          },
          "metadata": {},
          "execution_count": 296
        }
      ]
    },
    {
      "cell_type": "code",
      "source": [
        "df[(df[\"ROM\"] == \"128 GB ROM\")][[\"Names\",\"Price\",\"RAM\"]]"
      ],
      "metadata": {
        "colab": {
          "base_uri": "https://localhost:8080/",
          "height": 582
        },
        "id": "AZKs1Smx5gcU",
        "outputId": "8cd14f89-e181-401f-9b32-187f7886aad3"
      },
      "execution_count": 297,
      "outputs": [
        {
          "output_type": "execute_result",
          "data": {
            "text/html": [
              "\n",
              "  <div id=\"df-4ecf7293-4865-4233-b884-ba6973f1cdff\">\n",
              "    <div class=\"colab-df-container\">\n",
              "      <div>\n",
              "<style scoped>\n",
              "    .dataframe tbody tr th:only-of-type {\n",
              "        vertical-align: middle;\n",
              "    }\n",
              "\n",
              "    .dataframe tbody tr th {\n",
              "        vertical-align: top;\n",
              "    }\n",
              "\n",
              "    .dataframe thead th {\n",
              "        text-align: right;\n",
              "    }\n",
              "</style>\n",
              "<table border=\"1\" class=\"dataframe\">\n",
              "  <thead>\n",
              "    <tr style=\"text-align: right;\">\n",
              "      <th></th>\n",
              "      <th>Names</th>\n",
              "      <th>Price</th>\n",
              "      <th>RAM</th>\n",
              "    </tr>\n",
              "  </thead>\n",
              "  <tbody>\n",
              "    <tr>\n",
              "      <th>2</th>\n",
              "      <td>realme Narzo 50A (Oxygen Blue, 128 GB)</td>\n",
              "      <td>12499</td>\n",
              "      <td>4 GB RAM</td>\n",
              "    </tr>\n",
              "    <tr>\n",
              "      <th>3</th>\n",
              "      <td>realme Narzo 50A (Oxygen Green, 128 GB)</td>\n",
              "      <td>12499</td>\n",
              "      <td>4 GB RAM</td>\n",
              "    </tr>\n",
              "    <tr>\n",
              "      <th>6</th>\n",
              "      <td>realme 8i (Space Purple, 128 GB)</td>\n",
              "      <td>15999</td>\n",
              "      <td>6 GB RAM</td>\n",
              "    </tr>\n",
              "    <tr>\n",
              "      <th>7</th>\n",
              "      <td>realme 8i (Space Black, 128 GB)</td>\n",
              "      <td>15999</td>\n",
              "      <td>6 GB RAM</td>\n",
              "    </tr>\n",
              "    <tr>\n",
              "      <th>15</th>\n",
              "      <td>realme 9i (Prism Blue, 128 GB)</td>\n",
              "      <td>15999</td>\n",
              "      <td>6 GB RAM</td>\n",
              "    </tr>\n",
              "    <tr>\n",
              "      <th>17</th>\n",
              "      <td>realme 9i (Prism Black, 128 GB)</td>\n",
              "      <td>15999</td>\n",
              "      <td>6 GB RAM</td>\n",
              "    </tr>\n",
              "    <tr>\n",
              "      <th>20</th>\n",
              "      <td>realme 8 (Cyber Black, 128 GB)</td>\n",
              "      <td>16999</td>\n",
              "      <td>6 GB RAM</td>\n",
              "    </tr>\n",
              "    <tr>\n",
              "      <th>23</th>\n",
              "      <td>realme 8 (Cyber Silver, 128 GB)</td>\n",
              "      <td>16999</td>\n",
              "      <td>6 GB RAM</td>\n",
              "    </tr>\n",
              "    <tr>\n",
              "      <th>24</th>\n",
              "      <td>realme 8 (Cyber Silver, 128 GB)</td>\n",
              "      <td>17999</td>\n",
              "      <td>8 GB RAM</td>\n",
              "    </tr>\n",
              "    <tr>\n",
              "      <th>25</th>\n",
              "      <td>realme 8 (Cyber Black, 128 GB)</td>\n",
              "      <td>17999</td>\n",
              "      <td>8 GB RAM</td>\n",
              "    </tr>\n",
              "    <tr>\n",
              "      <th>26</th>\n",
              "      <td>realme 8 5G (Supersonic Black, 128 GB)</td>\n",
              "      <td>15261</td>\n",
              "      <td>8 GB RAM</td>\n",
              "    </tr>\n",
              "    <tr>\n",
              "      <th>33</th>\n",
              "      <td>realme C25_Y (Metal Grey, 128 GB)</td>\n",
              "      <td>11999</td>\n",
              "      <td>4 GB RAM</td>\n",
              "    </tr>\n",
              "    <tr>\n",
              "      <th>34</th>\n",
              "      <td>realme C25_Y (Glacier Blue, 128 GB)</td>\n",
              "      <td>11999</td>\n",
              "      <td>4 GB RAM</td>\n",
              "    </tr>\n",
              "    <tr>\n",
              "      <th>35</th>\n",
              "      <td>realme 8 5G (Supersonic Black, 128 GB)</td>\n",
              "      <td>15445</td>\n",
              "      <td>4 GB RAM</td>\n",
              "    </tr>\n",
              "    <tr>\n",
              "      <th>36</th>\n",
              "      <td>realme 8 5G (Supersonic Blue, 128 GB)</td>\n",
              "      <td>16165</td>\n",
              "      <td>4 GB RAM</td>\n",
              "    </tr>\n",
              "    <tr>\n",
              "      <th>37</th>\n",
              "      <td>realme Narzo 30 (Racing Blue, 128 GB)</td>\n",
              "      <td>15499</td>\n",
              "      <td>6 GB RAM</td>\n",
              "    </tr>\n",
              "    <tr>\n",
              "      <th>38</th>\n",
              "      <td>realme 8 (Cyber Black, 128 GB)</td>\n",
              "      <td>15999</td>\n",
              "      <td>4 GB RAM</td>\n",
              "    </tr>\n",
              "  </tbody>\n",
              "</table>\n",
              "</div>\n",
              "      <button class=\"colab-df-convert\" onclick=\"convertToInteractive('df-4ecf7293-4865-4233-b884-ba6973f1cdff')\"\n",
              "              title=\"Convert this dataframe to an interactive table.\"\n",
              "              style=\"display:none;\">\n",
              "        \n",
              "  <svg xmlns=\"http://www.w3.org/2000/svg\" height=\"24px\"viewBox=\"0 0 24 24\"\n",
              "       width=\"24px\">\n",
              "    <path d=\"M0 0h24v24H0V0z\" fill=\"none\"/>\n",
              "    <path d=\"M18.56 5.44l.94 2.06.94-2.06 2.06-.94-2.06-.94-.94-2.06-.94 2.06-2.06.94zm-11 1L8.5 8.5l.94-2.06 2.06-.94-2.06-.94L8.5 2.5l-.94 2.06-2.06.94zm10 10l.94 2.06.94-2.06 2.06-.94-2.06-.94-.94-2.06-.94 2.06-2.06.94z\"/><path d=\"M17.41 7.96l-1.37-1.37c-.4-.4-.92-.59-1.43-.59-.52 0-1.04.2-1.43.59L10.3 9.45l-7.72 7.72c-.78.78-.78 2.05 0 2.83L4 21.41c.39.39.9.59 1.41.59.51 0 1.02-.2 1.41-.59l7.78-7.78 2.81-2.81c.8-.78.8-2.07 0-2.86zM5.41 20L4 18.59l7.72-7.72 1.47 1.35L5.41 20z\"/>\n",
              "  </svg>\n",
              "      </button>\n",
              "      \n",
              "  <style>\n",
              "    .colab-df-container {\n",
              "      display:flex;\n",
              "      flex-wrap:wrap;\n",
              "      gap: 12px;\n",
              "    }\n",
              "\n",
              "    .colab-df-convert {\n",
              "      background-color: #E8F0FE;\n",
              "      border: none;\n",
              "      border-radius: 50%;\n",
              "      cursor: pointer;\n",
              "      display: none;\n",
              "      fill: #1967D2;\n",
              "      height: 32px;\n",
              "      padding: 0 0 0 0;\n",
              "      width: 32px;\n",
              "    }\n",
              "\n",
              "    .colab-df-convert:hover {\n",
              "      background-color: #E2EBFA;\n",
              "      box-shadow: 0px 1px 2px rgba(60, 64, 67, 0.3), 0px 1px 3px 1px rgba(60, 64, 67, 0.15);\n",
              "      fill: #174EA6;\n",
              "    }\n",
              "\n",
              "    [theme=dark] .colab-df-convert {\n",
              "      background-color: #3B4455;\n",
              "      fill: #D2E3FC;\n",
              "    }\n",
              "\n",
              "    [theme=dark] .colab-df-convert:hover {\n",
              "      background-color: #434B5C;\n",
              "      box-shadow: 0px 1px 3px 1px rgba(0, 0, 0, 0.15);\n",
              "      filter: drop-shadow(0px 1px 2px rgba(0, 0, 0, 0.3));\n",
              "      fill: #FFFFFF;\n",
              "    }\n",
              "  </style>\n",
              "\n",
              "      <script>\n",
              "        const buttonEl =\n",
              "          document.querySelector('#df-4ecf7293-4865-4233-b884-ba6973f1cdff button.colab-df-convert');\n",
              "        buttonEl.style.display =\n",
              "          google.colab.kernel.accessAllowed ? 'block' : 'none';\n",
              "\n",
              "        async function convertToInteractive(key) {\n",
              "          const element = document.querySelector('#df-4ecf7293-4865-4233-b884-ba6973f1cdff');\n",
              "          const dataTable =\n",
              "            await google.colab.kernel.invokeFunction('convertToInteractive',\n",
              "                                                     [key], {});\n",
              "          if (!dataTable) return;\n",
              "\n",
              "          const docLinkHtml = 'Like what you see? Visit the ' +\n",
              "            '<a target=\"_blank\" href=https://colab.research.google.com/notebooks/data_table.ipynb>data table notebook</a>'\n",
              "            + ' to learn more about interactive tables.';\n",
              "          element.innerHTML = '';\n",
              "          dataTable['output_type'] = 'display_data';\n",
              "          await google.colab.output.renderOutput(dataTable, element);\n",
              "          const docLink = document.createElement('div');\n",
              "          docLink.innerHTML = docLinkHtml;\n",
              "          element.appendChild(docLink);\n",
              "        }\n",
              "      </script>\n",
              "    </div>\n",
              "  </div>\n",
              "  "
            ],
            "text/plain": [
              "                                      Names  Price       RAM\n",
              "2    realme Narzo 50A (Oxygen Blue, 128 GB)  12499  4 GB RAM\n",
              "3   realme Narzo 50A (Oxygen Green, 128 GB)  12499  4 GB RAM\n",
              "6          realme 8i (Space Purple, 128 GB)  15999  6 GB RAM\n",
              "7           realme 8i (Space Black, 128 GB)  15999  6 GB RAM\n",
              "15           realme 9i (Prism Blue, 128 GB)  15999  6 GB RAM\n",
              "17          realme 9i (Prism Black, 128 GB)  15999  6 GB RAM\n",
              "20           realme 8 (Cyber Black, 128 GB)  16999  6 GB RAM\n",
              "23          realme 8 (Cyber Silver, 128 GB)  16999  6 GB RAM\n",
              "24          realme 8 (Cyber Silver, 128 GB)  17999  8 GB RAM\n",
              "25           realme 8 (Cyber Black, 128 GB)  17999  8 GB RAM\n",
              "26   realme 8 5G (Supersonic Black, 128 GB)  15261  8 GB RAM\n",
              "33        realme C25_Y (Metal Grey, 128 GB)  11999  4 GB RAM\n",
              "34      realme C25_Y (Glacier Blue, 128 GB)  11999  4 GB RAM\n",
              "35   realme 8 5G (Supersonic Black, 128 GB)  15445  4 GB RAM\n",
              "36    realme 8 5G (Supersonic Blue, 128 GB)  16165  4 GB RAM\n",
              "37    realme Narzo 30 (Racing Blue, 128 GB)  15499  6 GB RAM\n",
              "38           realme 8 (Cyber Black, 128 GB)  15999  4 GB RAM"
            ]
          },
          "metadata": {},
          "execution_count": 297
        }
      ]
    },
    {
      "cell_type": "markdown",
      "source": [
        "**ERRORS : **\n",
        "- WARRANTY (samsung / samsung s22)\n",
        "- SAMSUNG - NoneType' object has no attribute 'text' -- > DISCOUNT\n",
        "- out of range --> WARRANTY"
      ],
      "metadata": {
        "id": "zNUdCUNvA1gI"
      }
    },
    {
      "cell_type": "code",
      "source": [
        "df[\"Price\"] = pd.to_numeric(df[\"Price\"])\n",
        "df[\"Discount (in %age)\"] = pd.to_numeric(df[\"Discount (in %age)\"])"
      ],
      "metadata": {
        "id": "WsYJG_iDkQJO"
      },
      "execution_count": 298,
      "outputs": []
    },
    {
      "cell_type": "code",
      "source": [
        "# del df[\"Discount\"]"
      ],
      "metadata": {
        "id": "ny0tlGeikQ9g"
      },
      "execution_count": 299,
      "outputs": []
    },
    {
      "cell_type": "code",
      "source": [
        "df.head()"
      ],
      "metadata": {
        "colab": {
          "base_uri": "https://localhost:8080/",
          "height": 441
        },
        "id": "ivIOTfGMpjlO",
        "outputId": "1294744a-93d2-4726-b834-d0cabd6103f3"
      },
      "execution_count": 300,
      "outputs": [
        {
          "output_type": "execute_result",
          "data": {
            "text/html": [
              "\n",
              "  <div id=\"df-cd2ac7a7-0f28-4537-b446-675aae4519e2\">\n",
              "    <div class=\"colab-df-container\">\n",
              "      <div>\n",
              "<style scoped>\n",
              "    .dataframe tbody tr th:only-of-type {\n",
              "        vertical-align: middle;\n",
              "    }\n",
              "\n",
              "    .dataframe tbody tr th {\n",
              "        vertical-align: top;\n",
              "    }\n",
              "\n",
              "    .dataframe thead th {\n",
              "        text-align: right;\n",
              "    }\n",
              "</style>\n",
              "<table border=\"1\" class=\"dataframe\">\n",
              "  <thead>\n",
              "    <tr style=\"text-align: right;\">\n",
              "      <th></th>\n",
              "      <th>Names</th>\n",
              "      <th>Discount (in %age)</th>\n",
              "      <th>Price</th>\n",
              "      <th>RAM</th>\n",
              "      <th>ROM</th>\n",
              "      <th>Camera</th>\n",
              "      <th>Battery (in MaH)</th>\n",
              "      <th>Warranty</th>\n",
              "      <th>URL</th>\n",
              "    </tr>\n",
              "  </thead>\n",
              "  <tbody>\n",
              "    <tr>\n",
              "      <th>0</th>\n",
              "      <td>realme Narzo 50A (Oxygen Blue, 64 GB)</td>\n",
              "      <td>11</td>\n",
              "      <td>11549</td>\n",
              "      <td>4 GB RAM</td>\n",
              "      <td>64 GB ROM</td>\n",
              "      <td>50MP + 2MP + 2MP | 8MP Front Camera</td>\n",
              "      <td>6000 mAh Battery</td>\n",
              "      <td>1 Year Warranty for Mobile and 6 Months for Ac...</td>\n",
              "      <td>https://www.flipkart.com/realme-narzo-50a-oxyg...</td>\n",
              "    </tr>\n",
              "    <tr>\n",
              "      <th>1</th>\n",
              "      <td>realme Narzo 50A (Oxygen Green, 64 GB)</td>\n",
              "      <td>11</td>\n",
              "      <td>11549</td>\n",
              "      <td>4 GB RAM</td>\n",
              "      <td>64 GB ROM</td>\n",
              "      <td>50MP + 2MP + 2MP | 8MP Front Camera</td>\n",
              "      <td>6000 mAh Battery</td>\n",
              "      <td>1 Year Warranty for Mobile and 6 Months for Ac...</td>\n",
              "      <td>https://www.flipkart.com/realme-narzo-50a-oxyg...</td>\n",
              "    </tr>\n",
              "    <tr>\n",
              "      <th>2</th>\n",
              "      <td>realme Narzo 50A (Oxygen Blue, 128 GB)</td>\n",
              "      <td>10</td>\n",
              "      <td>12499</td>\n",
              "      <td>4 GB RAM</td>\n",
              "      <td>128 GB ROM</td>\n",
              "      <td>50MP + 2MP + 2MP | 8MP Front Camera</td>\n",
              "      <td>6000 mAh Battery</td>\n",
              "      <td>1 Year Warranty for Mobile and 6 Months for Ac...</td>\n",
              "      <td>https://www.flipkart.com/realme-narzo-50a-oxyg...</td>\n",
              "    </tr>\n",
              "    <tr>\n",
              "      <th>3</th>\n",
              "      <td>realme Narzo 50A (Oxygen Green, 128 GB)</td>\n",
              "      <td>10</td>\n",
              "      <td>12499</td>\n",
              "      <td>4 GB RAM</td>\n",
              "      <td>128 GB ROM</td>\n",
              "      <td>50MP + 2MP + 2MP | 8MP Front Camera</td>\n",
              "      <td>6000 mAh Battery</td>\n",
              "      <td>1 Year Warranty for Mobile and 6 Months for Ac...</td>\n",
              "      <td>https://www.flipkart.com/realme-narzo-50a-oxyg...</td>\n",
              "    </tr>\n",
              "    <tr>\n",
              "      <th>4</th>\n",
              "      <td>realme 8i (Space Purple, 64 GB)</td>\n",
              "      <td>12</td>\n",
              "      <td>13999</td>\n",
              "      <td>4 GB RAM</td>\n",
              "      <td>64 GB ROM</td>\n",
              "      <td>50MP + 2MP + 2MP | 16MP Front Camera</td>\n",
              "      <td>5000 mAh Battery</td>\n",
              "      <td>1 Year Warranty for Mobile and 6 Months for Ac...</td>\n",
              "      <td>https://www.flipkart.com/realme-8i-space-purpl...</td>\n",
              "    </tr>\n",
              "  </tbody>\n",
              "</table>\n",
              "</div>\n",
              "      <button class=\"colab-df-convert\" onclick=\"convertToInteractive('df-cd2ac7a7-0f28-4537-b446-675aae4519e2')\"\n",
              "              title=\"Convert this dataframe to an interactive table.\"\n",
              "              style=\"display:none;\">\n",
              "        \n",
              "  <svg xmlns=\"http://www.w3.org/2000/svg\" height=\"24px\"viewBox=\"0 0 24 24\"\n",
              "       width=\"24px\">\n",
              "    <path d=\"M0 0h24v24H0V0z\" fill=\"none\"/>\n",
              "    <path d=\"M18.56 5.44l.94 2.06.94-2.06 2.06-.94-2.06-.94-.94-2.06-.94 2.06-2.06.94zm-11 1L8.5 8.5l.94-2.06 2.06-.94-2.06-.94L8.5 2.5l-.94 2.06-2.06.94zm10 10l.94 2.06.94-2.06 2.06-.94-2.06-.94-.94-2.06-.94 2.06-2.06.94z\"/><path d=\"M17.41 7.96l-1.37-1.37c-.4-.4-.92-.59-1.43-.59-.52 0-1.04.2-1.43.59L10.3 9.45l-7.72 7.72c-.78.78-.78 2.05 0 2.83L4 21.41c.39.39.9.59 1.41.59.51 0 1.02-.2 1.41-.59l7.78-7.78 2.81-2.81c.8-.78.8-2.07 0-2.86zM5.41 20L4 18.59l7.72-7.72 1.47 1.35L5.41 20z\"/>\n",
              "  </svg>\n",
              "      </button>\n",
              "      \n",
              "  <style>\n",
              "    .colab-df-container {\n",
              "      display:flex;\n",
              "      flex-wrap:wrap;\n",
              "      gap: 12px;\n",
              "    }\n",
              "\n",
              "    .colab-df-convert {\n",
              "      background-color: #E8F0FE;\n",
              "      border: none;\n",
              "      border-radius: 50%;\n",
              "      cursor: pointer;\n",
              "      display: none;\n",
              "      fill: #1967D2;\n",
              "      height: 32px;\n",
              "      padding: 0 0 0 0;\n",
              "      width: 32px;\n",
              "    }\n",
              "\n",
              "    .colab-df-convert:hover {\n",
              "      background-color: #E2EBFA;\n",
              "      box-shadow: 0px 1px 2px rgba(60, 64, 67, 0.3), 0px 1px 3px 1px rgba(60, 64, 67, 0.15);\n",
              "      fill: #174EA6;\n",
              "    }\n",
              "\n",
              "    [theme=dark] .colab-df-convert {\n",
              "      background-color: #3B4455;\n",
              "      fill: #D2E3FC;\n",
              "    }\n",
              "\n",
              "    [theme=dark] .colab-df-convert:hover {\n",
              "      background-color: #434B5C;\n",
              "      box-shadow: 0px 1px 3px 1px rgba(0, 0, 0, 0.15);\n",
              "      filter: drop-shadow(0px 1px 2px rgba(0, 0, 0, 0.3));\n",
              "      fill: #FFFFFF;\n",
              "    }\n",
              "  </style>\n",
              "\n",
              "      <script>\n",
              "        const buttonEl =\n",
              "          document.querySelector('#df-cd2ac7a7-0f28-4537-b446-675aae4519e2 button.colab-df-convert');\n",
              "        buttonEl.style.display =\n",
              "          google.colab.kernel.accessAllowed ? 'block' : 'none';\n",
              "\n",
              "        async function convertToInteractive(key) {\n",
              "          const element = document.querySelector('#df-cd2ac7a7-0f28-4537-b446-675aae4519e2');\n",
              "          const dataTable =\n",
              "            await google.colab.kernel.invokeFunction('convertToInteractive',\n",
              "                                                     [key], {});\n",
              "          if (!dataTable) return;\n",
              "\n",
              "          const docLinkHtml = 'Like what you see? Visit the ' +\n",
              "            '<a target=\"_blank\" href=https://colab.research.google.com/notebooks/data_table.ipynb>data table notebook</a>'\n",
              "            + ' to learn more about interactive tables.';\n",
              "          element.innerHTML = '';\n",
              "          dataTable['output_type'] = 'display_data';\n",
              "          await google.colab.output.renderOutput(dataTable, element);\n",
              "          const docLink = document.createElement('div');\n",
              "          docLink.innerHTML = docLinkHtml;\n",
              "          element.appendChild(docLink);\n",
              "        }\n",
              "      </script>\n",
              "    </div>\n",
              "  </div>\n",
              "  "
            ],
            "text/plain": [
              "                                     Names  ...                                                URL\n",
              "0    realme Narzo 50A (Oxygen Blue, 64 GB)  ...  https://www.flipkart.com/realme-narzo-50a-oxyg...\n",
              "1   realme Narzo 50A (Oxygen Green, 64 GB)  ...  https://www.flipkart.com/realme-narzo-50a-oxyg...\n",
              "2   realme Narzo 50A (Oxygen Blue, 128 GB)  ...  https://www.flipkart.com/realme-narzo-50a-oxyg...\n",
              "3  realme Narzo 50A (Oxygen Green, 128 GB)  ...  https://www.flipkart.com/realme-narzo-50a-oxyg...\n",
              "4          realme 8i (Space Purple, 64 GB)  ...  https://www.flipkart.com/realme-8i-space-purpl...\n",
              "\n",
              "[5 rows x 9 columns]"
            ]
          },
          "metadata": {},
          "execution_count": 300
        }
      ]
    },
    {
      "cell_type": "code",
      "source": [
        "df.to_csv(\"FlipkartMobiles.csv\")"
      ],
      "metadata": {
        "id": "T-sKJgGHqTko"
      },
      "execution_count": 301,
      "outputs": []
    },
    {
      "cell_type": "code",
      "source": [
        ""
      ],
      "metadata": {
        "id": "U7LMBhzarFzY"
      },
      "execution_count": 301,
      "outputs": []
    }
  ]
}